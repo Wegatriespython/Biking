{
 "cells": [
  {
   "cell_type": "markdown",
   "metadata": {},
   "source": [
    "#Introduction\n",
    "\n",
    "This notebook analyzes survey data related to biking in Prague, focusing on how different groups use bicycles and other transport modes. We'll explore factors like distance traveled, commute time, and how these relate to age, gender, and occupation. The notebook also includes visualizations (like bar charts and heatmaps) to better understand the results.\n",
    "\n",
    "1. Import Libraries\n",
    "We start by importing libraries:\n",
    "\n",
    "Pandas: For handling and processing data tables.\n",
    "Matplotlib & Seaborn: For creating visualizations.\n",
    "Re: For working with text data.\n"
   ]
  },
  {
   "cell_type": "code",
   "execution_count": null,
   "metadata": {},
   "outputs": [],
   "source": [
    "import pandas as pd\n",
    "import matplotlib.pyplot as plt\n",
    "import seaborn as sns\n",
    "import re\n"
   ]
  },
  {
   "cell_type": "markdown",
   "metadata": {},
   "source": [
    "2. File Paths Setup\n",
    "We define file paths for the datasets based on categories like 'Online' and 'Offline' responses to organize data sources."
   ]
  },
  {
   "cell_type": "code",
   "execution_count": null,
   "metadata": {},
   "outputs": [],
   "source": [
    "categories = ['Online_508', 'Offline_508', 'Online_Rest', 'Offline_Rest']\n",
    "file_paths = {cat: f\"V:\\\\Prague_Biking\\\\Data\\\\Survey Data\\\\Processed_Cycling_in_Prague_Survey_{cat}.xlsx\" for cat in categories}\n"
   ]
  },
  {
   "cell_type": "markdown",
   "metadata": {},
   "source": [
    "3. Converting Survey Responses\n",
    "The survey has data in categories like \"distance\" and \"time,\" which we need to convert into numerical values for analysis:\n",
    "\n",
    "3.1 Convert Distance\n",
    "This function converts text responses (e.g., \"2-5 km\") into numbers (e.g., 3.5 for the average)"
   ]
  },
  {
   "cell_type": "code",
   "execution_count": null,
   "metadata": {},
   "outputs": [],
   "source": [
    "def convert_distance(distance):\n",
    "    if pd.isna(distance):\n",
    "        return None\n",
    "    if isinstance(distance, str):\n",
    "        if '<2 km' in distance:\n",
    "            return 1\n",
    "        elif '2-5 km' in distance:\n",
    "            return 3.5\n",
    "        elif '5-10 km' in distance:\n",
    "            return 7.5\n",
    "        elif '10-20 km' in distance:\n",
    "            return 15\n",
    "        elif '20-50 km' in distance:\n",
    "            return 35\n",
    "        elif '>50 km' in distance:\n",
    "            return 60\n",
    "    return distance\n"
   ]
  },
  {
   "cell_type": "markdown",
   "metadata": {},
   "source": [
    "3.2 Convert Time\n",
    "Similarly, this function converts time ranges (e.g., \"11-30 minutes\") into an average number like 20."
   ]
  },
  {
   "cell_type": "code",
   "execution_count": null,
   "metadata": {},
   "outputs": [],
   "source": [
    "def convert_time(time):\n",
    "    if pd.isna(time):\n",
    "        return None\n",
    "    if isinstance(time, str):\n",
    "        if '<10 minutes' in time:\n",
    "            return 5\n",
    "        elif '11-30 minutes' in time:\n",
    "            return 20\n",
    "        elif '31-60 minutes' in time:\n",
    "            return 45\n",
    "        elif '61-90 minutes' in time:\n",
    "            return 75\n",
    "        elif '91-120 minutes' in time:\n",
    "            return 105\n",
    "        elif '>120 minutes' in time:\n",
    "            return 135\n",
    "    return time"
   ]
  },
  {
   "cell_type": "markdown",
   "metadata": {},
   "source": [
    "4. Processing Transport Modes\n",
    "Survey participants listed their modes of transport. We clean and count each mode (like bus, tram, car) so we can analyze and visualize it later."
   ]
  },
  {
   "cell_type": "code",
   "execution_count": null,
   "metadata": {},
   "outputs": [],
   "source": [
    "def process_modal_split(modal_split):\n",
    "    if pd.isna(modal_split):\n",
    "        return {}\n",
    "    \n",
    "    if isinstance(modal_split, (float, int)):\n",
    "        return {}  # or handle numeric values as needed\n",
    "    \n",
    "    transport_counts = {}\n",
    "    modes = modal_split.split(',')\n",
    "    for mode in modes:\n",
    "        clean_mode = mode.strip().lower()\n",
    "        if 'bus' in clean_mode:\n",
    "            transport_counts['bus'] = transport_counts.get('bus', 0) + 1\n",
    "        elif 'car' in clean_mode:\n",
    "            transport_counts['car'] = transport_counts.get('car', 0) + 1\n",
    "        elif 'metro' in clean_mode:\n",
    "            transport_counts['metro'] = transport_counts.get('metro', 0) + 1\n",
    "        elif 'tram' in clean_mode:\n",
    "            transport_counts['tram'] = transport_counts.get('tram', 0) + 1\n",
    "        elif 'cycling' in clean_mode:\n",
    "            transport_counts['cycling'] = transport_counts.get('cycling', 0) + 1\n",
    "        elif 'train' in clean_mode:\n",
    "            transport_counts['train'] = transport_counts.get('train', 0) + 1\n",
    "        elif 'foot' in clean_mode:\n",
    "            transport_counts['foot'] = transport_counts.get('foot', 0) + 1\n",
    "        # Add more conditions for other transport modes as needed\n",
    "    \n",
    "    return transport_counts"
   ]
  },
  {
   "cell_type": "markdown",
   "metadata": {},
   "source": [
    "5. Preprocessing the Data\n",
    "We clean and prepare the data to be ready for analysis:\n",
    "\n",
    "Creating a 'Bike User' indicator to mark those who use bikes.\n",
    "Converting distance and time values.\n",
    "Breaking down the transport modes into proportions."
   ]
  },
  {
   "cell_type": "code",
   "execution_count": null,
   "metadata": {},
   "outputs": [],
   "source": [
    "def preprocess_data(df):\n",
    "    # Create combined bike user indicator\n",
    "    df['Bike_User'] = ((df['Q18'] == 'Yes') | (df['Q19'] == 'Yes')).astype(int)\n",
    "    \n",
    "    # Convert distance and time to continuous variables\n",
    "    df['Avg_Distance'] = df['Q15'].apply(convert_distance)\n",
    "    df['Avg_Time'] = df['Q16'].apply(convert_time)\n",
    "    \n",
    "    # Process modal split\n",
    "    modal_split = df['Q17'].apply(process_modal_split).apply(pd.Series).fillna(0)\n",
    "    \n",
    "    # Normalize modal split to get proportions\n",
    "    modal_split_sum = modal_split.sum(axis=1)\n",
    "    modal_split = modal_split.div(modal_split_sum, axis=0).fillna(0)\n",
    "    \n",
    "    df = pd.concat([df, modal_split], axis=1)\n",
    "    \n",
    "    return df"
   ]
  },
  {
   "cell_type": "markdown",
   "metadata": {},
   "source": [
    "6. Visualization Functions\n",
    "These functions create visualizations to help us understand relationships in the data.\n",
    "\n",
    "6.1 Heatmaps\n",
    "We use heatmaps to show relationships like age vs. bike usage in a visually appealing way."
   ]
  },
  {
   "cell_type": "code",
   "execution_count": null,
   "metadata": {},
   "outputs": [],
   "source": [
    "def create_cross_tab_heatmap(df, x, y, title, filename):\n",
    "    plt.figure(figsize=(12, 8))\n",
    "    cross_tab = pd.crosstab(df[x], df[y], normalize='index')\n",
    "    sns.heatmap(cross_tab, annot=True, cmap='YlGnBu', fmt='.2%')\n",
    "    plt.title(title, fontsize=16)\n",
    "    plt.tight_layout()\n",
    "    plt.savefig(f\"V:\\\\Prague_Biking\\\\Data\\\\Survey Data\\\\{filename}.png\", dpi=300)\n",
    "    plt.close()"
   ]
  },
  {
   "cell_type": "markdown",
   "metadata": {},
   "source": [
    "6.2 Stacked Bar Charts\n",
    "Stacked bar charts display proportions of different groups within a category (e.g., gender vs. perceived safety)."
   ]
  },
  {
   "cell_type": "code",
   "execution_count": null,
   "metadata": {},
   "outputs": [],
   "source": [
    "def create_stacked_bar(df, x, y, title, filename):\n",
    "    plt.figure(figsize=(12, 8))\n",
    "    cross_tab = pd.crosstab(df[x], df[y], normalize='index')\n",
    "    cross_tab.plot(kind='bar', stacked=True)\n",
    "    plt.title(title, fontsize=16)\n",
    "    plt.legend(title=y, bbox_to_anchor=(1.05, 1), loc='upper left')\n",
    "    plt.tight_layout()\n",
    "    plt.savefig(f\"V:\\\\Prague_Biking\\\\Data\\\\Survey Data\\\\{filename}.png\", dpi=300)\n",
    "    plt.close()"
   ]
  },
  {
   "cell_type": "markdown",
   "metadata": {},
   "source": [
    "7. Analyzing and Visualizing the Data\n",
    "We apply our functions to visualize various aspects:\n",
    "\n",
    "Age vs. Bike Usage: Shows how different age groups use bikes.\n",
    "Gender vs. Safety Perception: Compares safety perception across genders.\n",
    "Commute Distance and Time: Looks at distances and times based on occupation and age."
   ]
  },
  {
   "cell_type": "code",
   "execution_count": null,
   "metadata": {},
   "outputs": [],
   "source": [
    "def analyze_and_visualize(df):\n",
    "    # Age vs Bike Usage\n",
    "    create_cross_tab_heatmap(df, 'Q3', 'Bike_User', 'Age vs Bike Usage', 'age_vs_bike_usage')\n",
    "\n",
    "    # Gender vs Perceived Safety (Q25)\n",
    "    create_stacked_bar(df, 'Q4', 'Q25', 'Gender vs Perceived Safety', 'gender_vs_safety')\n",
    "\n",
    "    # Occupation vs Average Commute Distance\n",
    "    plt.figure(figsize=(10, 6))\n",
    "    sns.boxplot(x='Q5', y='Avg_Distance', data=df)\n",
    "    plt.title('Occupation vs Average Commute Distance', fontsize=16)\n",
    "    plt.xlabel('Occupation')\n",
    "    plt.ylabel('Average Distance (km)')\n",
    "    plt.tight_layout()\n",
    "    plt.savefig(\"V:\\\\Prague_Biking\\\\Data\\\\Survey Data\\\\occupation_vs_distance.png\", dpi=300)\n",
    "    plt.close()\n",
    "\n",
    "    # Age vs Average Commute Time\n",
    "    plt.figure(figsize=(10, 6))\n",
    "    sns.boxplot(x='Q3', y='Avg_Time', data=df)\n",
    "    plt.title('Age vs Average Commute Time', fontsize=16)\n",
    "    plt.xlabel('Age Group')\n",
    "    plt.ylabel('Average Time (minutes)')\n",
    "    plt.tight_layout()\n",
    "    plt.savefig(\"V:\\\\Prague_Biking\\\\Data\\\\Survey Data\\\\age_vs_commute_time.png\", dpi=300)\n",
    "    plt.close()\n",
    "\n",
    "    # Modal Split by Age Group\n",
    "    modal_columns = ['bus', 'car', 'metro', 'tram', 'cycling', 'train', 'foot']\n",
    "    modal_split = df.groupby('Q3')[modal_columns].mean()\n",
    "    modal_split.plot(kind='bar', stacked=True, figsize=(12, 6))\n",
    "    plt.title('Modal Split by Age Group', fontsize=16)\n",
    "    plt.xlabel('Age Group')\n",
    "    plt.ylabel('Proportion')\n",
    "    plt.legend(title='Transport Mode', bbox_to_anchor=(1.05, 1), loc='upper left')\n",
    "    plt.tight_layout()\n",
    "    plt.savefig(\"V:\\\\Prague_Biking\\\\Data\\\\Survey Data\\\\modal_split_by_age.png\", dpi=300)\n",
    "    plt.close()\n",
    "\n",
    "    # Modal Split by Gender\n",
    "    modal_columns = ['bus', 'car', 'metro', 'tram', 'cycling', 'train', 'foot']\n",
    "    modal_split_by_gender = df.groupby('Q4')[modal_columns].mean()\n",
    "    \n",
    "    plt.figure(figsize=(12, 6))\n",
    "    modal_split_by_gender.plot(kind='bar', stacked=True)\n",
    "    plt.title('Modal Split by Gender', fontsize=16)\n",
    "    plt.xlabel('Gender')\n",
    "    plt.ylabel('Proportion')\n",
    "    plt.legend(title='Transport Mode', bbox_to_anchor=(1.05, 1), loc='upper left')\n",
    "    plt.tight_layout()\n",
    "    plt.savefig(\"V:\\\\Prague_Biking\\\\Data\\\\Survey Data\\\\modal_split_by_gender.png\", dpi=300)\n",
    "    plt.close()\n",
    "\n"
   ]
  },
  {
   "cell_type": "markdown",
   "metadata": {},
   "source": [
    "8. Combining Data from Different Sources\n",
    "We combine all the data categories (e.g., online, offline) and prepare it for visualization. This is primarily exploratory, differences between the sources will be investigated in the analytical phase. "
   ]
  },
  {
   "cell_type": "code",
   "execution_count": null,
   "metadata": {},
   "outputs": [],
   "source": [
    "all_data = []\n",
    "for category, file_path in file_paths.items():\n",
    "    df = pd.read_excel(file_path)\n",
    "    df = preprocess_data(df)\n",
    "    df['Category'] = category\n",
    "    all_data.append(df)\n",
    "\n",
    "combined_df = pd.concat(all_data, ignore_index=True)\n"
   ]
  },
  {
   "cell_type": "markdown",
   "metadata": {},
   "source": [
    "9. Summary Statistics\n",
    "We summarize key statistics for transport modes and explore correlations between variables like distance, time, and bike usage."
   ]
  },
  {
   "cell_type": "code",
   "execution_count": null,
   "metadata": {},
   "outputs": [],
   "source": [
    "def print_summary_statistics(df):\n",
    "    modal_columns = ['bus', 'car', 'metro', 'tram', 'cycling', 'train', 'foot']\n",
    "    print(\"Modal Split Summary Statistics:\")\n",
    "    print(df[modal_columns].describe())\n",
    "    \n",
    "    print(\"\\nCorrelation between modal split and other variables:\")\n",
    "    correlation = df[modal_columns + ['Avg_Distance', 'Avg_Time', 'Bike_User']].corr()\n",
    "    print(correlation[modal_columns].loc[['Avg_Distance', 'Avg_Time', 'Bike_User']])\n",
    "\n",
    "# Add this to your main execution block\n",
    "print_summary_statistics(combined_df)"
   ]
  },
  {
   "cell_type": "markdown",
   "metadata": {},
   "source": [
    "10. Overall Transport Mode Visualization\n",
    "Finally, we visualize the overall proportion of different transport modes used by the respondents."
   ]
  },
  {
   "cell_type": "code",
   "execution_count": null,
   "metadata": {},
   "outputs": [],
   "source": [
    "def plot_overall_modal_split(df):\n",
    "    modal_columns = ['bus', 'car', 'metro', 'tram', 'cycling', 'train', 'foot']\n",
    "    overall_modal_split = df[modal_columns].mean()\n",
    "    \n",
    "    plt.figure(figsize=(10, 6))\n",
    "    overall_modal_split.plot(kind='bar')\n",
    "    plt.title('Overall Modal Split', fontsize=16)\n",
    "    plt.xlabel('Transport Mode')\n",
    "    plt.ylabel('Proportion')\n",
    "    plt.tight_layout()\n",
    "    plt.savefig(\"V:\\\\Prague_Biking\\\\Data\\\\Survey Data\\\\overall_modal_split.png\", dpi=300)\n",
    "    plt.close()\n",
    "\n",
    "# Add this to your main execution block\n",
    "plot_overall_modal_split(combined_df)"
   ]
  }
 ],
 "metadata": {
  "language_info": {
   "name": "python"
  }
 },
 "nbformat": 4,
 "nbformat_minor": 2
}
